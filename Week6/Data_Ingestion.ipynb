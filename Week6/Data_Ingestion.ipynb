{
 "cells": [
  {
   "cell_type": "code",
   "execution_count": 5,
   "metadata": {},
   "outputs": [],
   "source": [
    "import os\n",
    "import sys\n",
    "import gc\n",
    "import yaml\n",
    "import logging\n",
    "import subprocess\n",
    "import datetime\n",
    "import pandas as pd\n",
    "import dask\n",
    "import time\n",
    "import dask.dataframe as dd\n",
    "import re"
   ]
  },
  {
   "cell_type": "code",
   "execution_count": 6,
   "metadata": {},
   "outputs": [],
   "source": [
    "file_path = 'D:/GGProject/data/testdata.csv'"
   ]
  },
  {
   "cell_type": "code",
   "execution_count": 7,
   "metadata": {},
   "outputs": [],
   "source": [
    "def time_count(func):\n",
    "    start = time.time()\n",
    "    func()\n",
    "    end = time.time()\n",
    "    print(\"It takes {} second to finish reading\".format(end - start))"
   ]
  },
  {
   "cell_type": "code",
   "execution_count": 9,
   "metadata": {},
   "outputs": [
    {
     "name": "stdout",
     "output_type": "stream",
     "text": [
      "It takes 99.53842759132385 second to finish reading\n"
     ]
    }
   ],
   "source": [
    "#read file using pandas\n",
    "@time_count\n",
    "def readCsvwithPandas():\n",
    "    file = pd.read_csv(file_path, low_memory=False)\n",
    "    del file\n",
    "    gc.collect()\n",
    "    \n",
    "readCsvwithPandas"
   ]
  },
  {
   "cell_type": "code",
   "execution_count": 10,
   "metadata": {},
   "outputs": [
    {
     "name": "stdout",
     "output_type": "stream",
     "text": [
      "It takes 0.08823323249816895 second to finish reading\n"
     ]
    }
   ],
   "source": [
    "# read file using dask\n",
    "@time_count\n",
    "def readCsvwithDask():\n",
    "    file = dd.read_csv(file_path)\n",
    "    del file\n",
    "    gc.collect()\n",
    "\n",
    "readCsvwithDask"
   ]
  },
  {
   "cell_type": "code",
   "execution_count": 32,
   "metadata": {},
   "outputs": [],
   "source": [
    "ff = dd.read_csv(file_path, low_memory=False, assume_missing=True)"
   ]
  },
  {
   "cell_type": "code",
   "execution_count": 33,
   "metadata": {},
   "outputs": [
    {
     "name": "stdout",
     "output_type": "stream",
     "text": [
      "<class 'dask.dataframe.core.DataFrame'>\n",
      "Columns: 51 entries, Summons Number to NTA\n",
      "dtypes: object(24), float64(27)"
     ]
    }
   ],
   "source": [
    "ff.info()"
   ]
  },
  {
   "cell_type": "code",
   "execution_count": 13,
   "metadata": {},
   "outputs": [
    {
     "data": {
      "text/plain": [
       "Index(['Summons Number', 'Plate ID', 'Registration State', 'Plate Type',\n",
       "       'Issue Date', 'Violation Code', 'Vehicle Body Type', 'Vehicle Make',\n",
       "       'Issuing Agency', 'Street Code1', 'Street Code2', 'Street Code3',\n",
       "       'Vehicle Expiration Date', 'Violation Location', 'Violation Precinct',\n",
       "       'Issuer Precinct', 'Issuer Code', 'Issuer Command', 'Issuer Squad',\n",
       "       'Violation Time', 'Time First Observed', 'Violation County',\n",
       "       'Violation In Front Of Or Opposite', 'House Number', 'Street Name',\n",
       "       'Intersecting Street', 'Date First Observed', 'Law Section',\n",
       "       'Sub Division', 'Violation Legal Code', 'Days Parking In Effect    ',\n",
       "       'From Hours In Effect', 'To Hours In Effect', 'Vehicle Color',\n",
       "       'Unregistered Vehicle?', 'Vehicle Year', 'Meter Number',\n",
       "       'Feet From Curb', 'Violation Post Code', 'Violation Description',\n",
       "       'No Standing or Stopping Violation', 'Hydrant Violation',\n",
       "       'Double Parking Violation', 'Latitude', 'Longitude', 'Community Board',\n",
       "       'Community Council ', 'Census Tract', 'BIN', 'BBL', 'NTA'],\n",
       "      dtype='object')"
      ]
     },
     "execution_count": 13,
     "metadata": {},
     "output_type": "execute_result"
    }
   ],
   "source": [
    "ff.columns"
   ]
  },
  {
   "cell_type": "code",
   "execution_count": 14,
   "metadata": {},
   "outputs": [],
   "source": [
    "from pyparsing import col\n",
    "\n",
    "\n",
    "def read_config_file(filepath):\n",
    "    with open(filepath, 'r') as stream:\n",
    "        try:\n",
    "            return yaml.safe_load(stream)\n",
    "        except yaml.YAMLError as exc:\n",
    "            logging.error(exc)\n",
    "            \n",
    "def replacer(string, char):\n",
    "    pattern = char + '{2,}'\n",
    "    string = re.sub(pattern, char, string) \n",
    "    return string\n",
    "\n",
    "def col_converson(df):\n",
    "    columns_ = df.columns\n",
    "    columns_ = columns_.str.lower()\n",
    "    columns_ = columns_.str.replace('[^\\w]','_',regex=True)\n",
    "    columns_ = list(map(lambda x: x.strip('_'), list(columns_)))\n",
    "    columns_ = list(map(lambda x: replacer(x,'_'), list(columns_)))\n",
    "    columns_ =list(map(lambda x: x.lower(), list(columns_)))\n",
    "    return columns_\n",
    "    \n",
    "def col_header_val(df,table_config):\n",
    "    '''\n",
    "    replace whitespaces in the column\n",
    "    and standardized column names\n",
    "    '''\n",
    "    df.columns = col_converson(df)\n",
    "    expected_col = list(map(lambda x: x.lower(),  table_config['columns']))\n",
    "    expected_col.sort()\n",
    "    cols = sorted(df.columns)\n",
    "    if len(df.columns) == len(expected_col) and list(expected_col)  == list(cols):\n",
    "        print(\"column name and column length validation passed\")\n",
    "        return 1\n",
    "    else:\n",
    "        print(\"column name and column length validation failed\")\n",
    "        mismatched_columns_file = list(set(df.columns).difference(expected_col))\n",
    "        print(\"Following File columns are not in the YAML file\",mismatched_columns_file)\n",
    "        missing_YAML_file = list(set(expected_col).difference(df.columns))\n",
    "        print(\"Following YAML columns are not in the file uploaded\",missing_YAML_file)\n",
    "        logging.info(f'df columns: {df.columns}')\n",
    "        logging.info(f'expected columns: {expected_col}')\n",
    "        return 0"
   ]
  },
  {
   "cell_type": "code",
   "execution_count": 15,
   "metadata": {},
   "outputs": [],
   "source": [
    "yf = {}\n",
    "yf['file_type'] = 'csv'\n",
    "yf['dataset_name'] = 'testdataset'\n",
    "yf['file_name'] = 'testdata'\n",
    "yf['table_name'] = 'testtable'\n",
    "yf['inbound_delimiter'] = \",\"\n",
    "yf['outbound_delimiter'] = \"|\"\n",
    "yf['skip_leading_rows'] = 1\n",
    "yf['columns'] = col_converson(ff)\n",
    "yf['file_path'] = 'D:/GGProject/data/'\n",
    "with open(\"config.yaml\", 'w') as stream:\n",
    "    yaml.dump(yf, stream)"
   ]
  },
  {
   "cell_type": "code",
   "execution_count": 16,
   "metadata": {},
   "outputs": [
    {
     "name": "stdout",
     "output_type": "stream",
     "text": [
      "columns:\n",
      "- summons_number\n",
      "- plate_id\n",
      "- registration_state\n",
      "- plate_type\n",
      "- issue_date\n",
      "- violation_code\n",
      "- vehicle_body_type\n",
      "- vehicle_make\n",
      "- issuing_agency\n",
      "- street_code1\n",
      "- street_code2\n",
      "- street_code3\n",
      "- vehicle_expiration_date\n",
      "- violation_location\n",
      "- violation_precinct\n",
      "- issuer_precinct\n",
      "- issuer_code\n",
      "- issuer_command\n",
      "- issuer_squad\n",
      "- violation_time\n",
      "- time_first_observed\n",
      "- violation_county\n",
      "- violation_in_front_of_or_opposite\n",
      "- house_number\n",
      "- street_name\n",
      "- intersecting_street\n",
      "- date_first_observed\n",
      "- law_section\n",
      "- sub_division\n",
      "- violation_legal_code\n",
      "- days_parking_in_effect\n",
      "- from_hours_in_effect\n",
      "- to_hours_in_effect\n",
      "- vehicle_color\n",
      "- unregistered_vehicle\n",
      "- vehicle_year\n",
      "- meter_number\n",
      "- feet_from_curb\n",
      "- violation_post_code\n",
      "- violation_description\n",
      "- no_standing_or_stopping_violation\n",
      "- hydrant_violation\n",
      "- double_parking_violation\n",
      "- latitude\n",
      "- longitude\n",
      "- community_board\n",
      "- community_council\n",
      "- census_tract\n",
      "- bin\n",
      "- bbl\n",
      "- nta\n",
      "dataset_name: testdataset\n",
      "file_name: testdata\n",
      "file_path: D:/GGProject/data/\n",
      "file_type: csv\n",
      "inbound_delimiter: ','\n",
      "outbound_delimiter: '|'\n",
      "skip_leading_rows: 1\n",
      "table_name: testtable\n",
      "\n"
     ]
    }
   ],
   "source": [
    "print(yaml.dump(yf))"
   ]
  },
  {
   "cell_type": "code",
   "execution_count": 17,
   "metadata": {},
   "outputs": [],
   "source": [
    "config_data = read_config_file(\"config.yaml\")"
   ]
  },
  {
   "cell_type": "code",
   "execution_count": 19,
   "metadata": {},
   "outputs": [
    {
     "data": {
      "text/plain": [
       "{'columns': ['summons_number',\n",
       "  'plate_id',\n",
       "  'registration_state',\n",
       "  'plate_type',\n",
       "  'issue_date',\n",
       "  'violation_code',\n",
       "  'vehicle_body_type',\n",
       "  'vehicle_make',\n",
       "  'issuing_agency',\n",
       "  'street_code1',\n",
       "  'street_code2',\n",
       "  'street_code3',\n",
       "  'vehicle_expiration_date',\n",
       "  'violation_location',\n",
       "  'violation_precinct',\n",
       "  'issuer_precinct',\n",
       "  'issuer_code',\n",
       "  'issuer_command',\n",
       "  'issuer_squad',\n",
       "  'violation_time',\n",
       "  'time_first_observed',\n",
       "  'violation_county',\n",
       "  'violation_in_front_of_or_opposite',\n",
       "  'house_number',\n",
       "  'street_name',\n",
       "  'intersecting_street',\n",
       "  'date_first_observed',\n",
       "  'law_section',\n",
       "  'sub_division',\n",
       "  'violation_legal_code',\n",
       "  'days_parking_in_effect',\n",
       "  'from_hours_in_effect',\n",
       "  'to_hours_in_effect',\n",
       "  'vehicle_color',\n",
       "  'unregistered_vehicle',\n",
       "  'vehicle_year',\n",
       "  'meter_number',\n",
       "  'feet_from_curb',\n",
       "  'violation_post_code',\n",
       "  'violation_description',\n",
       "  'no_standing_or_stopping_violation',\n",
       "  'hydrant_violation',\n",
       "  'double_parking_violation',\n",
       "  'latitude',\n",
       "  'longitude',\n",
       "  'community_board',\n",
       "  'community_council',\n",
       "  'census_tract',\n",
       "  'bin',\n",
       "  'bbl',\n",
       "  'nta'],\n",
       " 'dataset_name': 'testdataset',\n",
       " 'file_name': 'testdata',\n",
       " 'file_path': 'D:/GGProject/data/',\n",
       " 'file_type': 'csv',\n",
       " 'inbound_delimiter': ',',\n",
       " 'outbound_delimiter': '|',\n",
       " 'skip_leading_rows': 1,\n",
       " 'table_name': 'testtable'}"
      ]
     },
     "execution_count": 19,
     "metadata": {},
     "output_type": "execute_result"
    }
   ],
   "source": [
    "config_data"
   ]
  },
  {
   "cell_type": "code",
   "execution_count": 20,
   "metadata": {},
   "outputs": [
    {
     "data": {
      "text/html": [
       "<div>\n",
       "<style scoped>\n",
       "    .dataframe tbody tr th:only-of-type {\n",
       "        vertical-align: middle;\n",
       "    }\n",
       "\n",
       "    .dataframe tbody tr th {\n",
       "        vertical-align: top;\n",
       "    }\n",
       "\n",
       "    .dataframe thead th {\n",
       "        text-align: right;\n",
       "    }\n",
       "</style>\n",
       "<table border=\"1\" class=\"dataframe\">\n",
       "  <thead>\n",
       "    <tr style=\"text-align: right;\">\n",
       "      <th></th>\n",
       "      <th>Summons Number</th>\n",
       "      <th>Plate ID</th>\n",
       "      <th>Registration State</th>\n",
       "      <th>Plate Type</th>\n",
       "      <th>Issue Date</th>\n",
       "      <th>Violation Code</th>\n",
       "      <th>Vehicle Body Type</th>\n",
       "      <th>Vehicle Make</th>\n",
       "      <th>Issuing Agency</th>\n",
       "      <th>Street Code1</th>\n",
       "      <th>...</th>\n",
       "      <th>Hydrant Violation</th>\n",
       "      <th>Double Parking Violation</th>\n",
       "      <th>Latitude</th>\n",
       "      <th>Longitude</th>\n",
       "      <th>Community Board</th>\n",
       "      <th>Community Council</th>\n",
       "      <th>Census Tract</th>\n",
       "      <th>BIN</th>\n",
       "      <th>BBL</th>\n",
       "      <th>NTA</th>\n",
       "    </tr>\n",
       "  </thead>\n",
       "  <tbody>\n",
       "    <tr>\n",
       "      <th>0</th>\n",
       "      <td>8002531292</td>\n",
       "      <td>EPC5238</td>\n",
       "      <td>NY</td>\n",
       "      <td>PAS</td>\n",
       "      <td>10/01/2014</td>\n",
       "      <td>21</td>\n",
       "      <td>SUBN</td>\n",
       "      <td>CHEVR</td>\n",
       "      <td>T</td>\n",
       "      <td>20390</td>\n",
       "      <td>...</td>\n",
       "      <td>NaN</td>\n",
       "      <td>NaN</td>\n",
       "      <td>NaN</td>\n",
       "      <td>NaN</td>\n",
       "      <td>NaN</td>\n",
       "      <td>NaN</td>\n",
       "      <td>NaN</td>\n",
       "      <td>NaN</td>\n",
       "      <td>NaN</td>\n",
       "      <td>NaN</td>\n",
       "    </tr>\n",
       "    <tr>\n",
       "      <th>1</th>\n",
       "      <td>8015318440</td>\n",
       "      <td>5298MD</td>\n",
       "      <td>NY</td>\n",
       "      <td>COM</td>\n",
       "      <td>03/06/2015</td>\n",
       "      <td>14</td>\n",
       "      <td>VAN</td>\n",
       "      <td>FRUEH</td>\n",
       "      <td>T</td>\n",
       "      <td>27790</td>\n",
       "      <td>...</td>\n",
       "      <td>NaN</td>\n",
       "      <td>NaN</td>\n",
       "      <td>NaN</td>\n",
       "      <td>NaN</td>\n",
       "      <td>NaN</td>\n",
       "      <td>NaN</td>\n",
       "      <td>NaN</td>\n",
       "      <td>NaN</td>\n",
       "      <td>NaN</td>\n",
       "      <td>NaN</td>\n",
       "    </tr>\n",
       "    <tr>\n",
       "      <th>2</th>\n",
       "      <td>7611181981</td>\n",
       "      <td>FYW2775</td>\n",
       "      <td>NY</td>\n",
       "      <td>PAS</td>\n",
       "      <td>07/28/2014</td>\n",
       "      <td>46</td>\n",
       "      <td>SUBN</td>\n",
       "      <td>SUBAR</td>\n",
       "      <td>T</td>\n",
       "      <td>8130</td>\n",
       "      <td>...</td>\n",
       "      <td>NaN</td>\n",
       "      <td>NaN</td>\n",
       "      <td>NaN</td>\n",
       "      <td>NaN</td>\n",
       "      <td>NaN</td>\n",
       "      <td>NaN</td>\n",
       "      <td>NaN</td>\n",
       "      <td>NaN</td>\n",
       "      <td>NaN</td>\n",
       "      <td>NaN</td>\n",
       "    </tr>\n",
       "    <tr>\n",
       "      <th>3</th>\n",
       "      <td>7445908067</td>\n",
       "      <td>GWE1987</td>\n",
       "      <td>NY</td>\n",
       "      <td>PAS</td>\n",
       "      <td>04/13/2015</td>\n",
       "      <td>19</td>\n",
       "      <td>4DSD</td>\n",
       "      <td>LEXUS</td>\n",
       "      <td>T</td>\n",
       "      <td>59990</td>\n",
       "      <td>...</td>\n",
       "      <td>NaN</td>\n",
       "      <td>NaN</td>\n",
       "      <td>NaN</td>\n",
       "      <td>NaN</td>\n",
       "      <td>NaN</td>\n",
       "      <td>NaN</td>\n",
       "      <td>NaN</td>\n",
       "      <td>NaN</td>\n",
       "      <td>NaN</td>\n",
       "      <td>NaN</td>\n",
       "    </tr>\n",
       "    <tr>\n",
       "      <th>4</th>\n",
       "      <td>7037692864</td>\n",
       "      <td>T671196C</td>\n",
       "      <td>NY</td>\n",
       "      <td>PAS</td>\n",
       "      <td>05/19/2015</td>\n",
       "      <td>19</td>\n",
       "      <td>4DSD</td>\n",
       "      <td>CHRYS</td>\n",
       "      <td>T</td>\n",
       "      <td>36090</td>\n",
       "      <td>...</td>\n",
       "      <td>NaN</td>\n",
       "      <td>NaN</td>\n",
       "      <td>NaN</td>\n",
       "      <td>NaN</td>\n",
       "      <td>NaN</td>\n",
       "      <td>NaN</td>\n",
       "      <td>NaN</td>\n",
       "      <td>NaN</td>\n",
       "      <td>NaN</td>\n",
       "      <td>NaN</td>\n",
       "    </tr>\n",
       "  </tbody>\n",
       "</table>\n",
       "<p>5 rows × 51 columns</p>\n",
       "</div>"
      ],
      "text/plain": [
       "   Summons Number  Plate ID Registration State Plate Type  Issue Date  \\\n",
       "0      8002531292   EPC5238                 NY        PAS  10/01/2014   \n",
       "1      8015318440    5298MD                 NY        COM  03/06/2015   \n",
       "2      7611181981   FYW2775                 NY        PAS  07/28/2014   \n",
       "3      7445908067   GWE1987                 NY        PAS  04/13/2015   \n",
       "4      7037692864  T671196C                 NY        PAS  05/19/2015   \n",
       "\n",
       "   Violation Code Vehicle Body Type Vehicle Make Issuing Agency  Street Code1  \\\n",
       "0              21              SUBN        CHEVR              T         20390   \n",
       "1              14               VAN        FRUEH              T         27790   \n",
       "2              46              SUBN        SUBAR              T          8130   \n",
       "3              19              4DSD        LEXUS              T         59990   \n",
       "4              19              4DSD        CHRYS              T         36090   \n",
       "\n",
       "   ...  Hydrant Violation  Double Parking Violation Latitude  Longitude  \\\n",
       "0  ...                NaN                       NaN      NaN        NaN   \n",
       "1  ...                NaN                       NaN      NaN        NaN   \n",
       "2  ...                NaN                       NaN      NaN        NaN   \n",
       "3  ...                NaN                       NaN      NaN        NaN   \n",
       "4  ...                NaN                       NaN      NaN        NaN   \n",
       "\n",
       "   Community Board  Community Council   Census Tract BIN BBL NTA  \n",
       "0              NaN                 NaN           NaN NaN NaN NaN  \n",
       "1              NaN                 NaN           NaN NaN NaN NaN  \n",
       "2              NaN                 NaN           NaN NaN NaN NaN  \n",
       "3              NaN                 NaN           NaN NaN NaN NaN  \n",
       "4              NaN                 NaN           NaN NaN NaN NaN  \n",
       "\n",
       "[5 rows x 51 columns]"
      ]
     },
     "execution_count": 20,
     "metadata": {},
     "output_type": "execute_result"
    }
   ],
   "source": [
    "file_type = config_data['file_type']\n",
    "source_file = config_data['file_path'] + config_data['file_name'] + f'.{file_type}'\n",
    "ff = dd.read_csv(source_file, low_memory=False, assume_missing=True, dtype={'Meter Number': 'object',\n",
    "       'Time First Observed': 'object',\n",
    "       'Violation Location': 'float64'})\n",
    "ff.head()"
   ]
  },
  {
   "cell_type": "code",
   "execution_count": 21,
   "metadata": {},
   "outputs": [
    {
     "name": "stdout",
     "output_type": "stream",
     "text": [
      "column name and column length validation passed\n"
     ]
    },
    {
     "data": {
      "text/plain": [
       "1"
      ]
     },
     "execution_count": 21,
     "metadata": {},
     "output_type": "execute_result"
    }
   ],
   "source": [
    "col_header_val(ff, config_data)"
   ]
  },
  {
   "cell_type": "code",
   "execution_count": 36,
   "metadata": {},
   "outputs": [
    {
     "name": "stdout",
     "output_type": "stream",
     "text": [
      "this data file has 11809233 rows, 51 columns and size of file is 2731.391342163086MB\n"
     ]
    }
   ],
   "source": [
    "print(\"this data file has {} rows, {} columns and size of file is {}MB\" .format(len(ff), len(ff.columns), os.stat(file_path).st_size/(1024**2)))"
   ]
  },
  {
   "cell_type": "code",
   "execution_count": null,
   "metadata": {},
   "outputs": [],
   "source": []
  }
 ],
 "metadata": {
  "kernelspec": {
   "display_name": "Python 3.9.7 ('base')",
   "language": "python",
   "name": "python3"
  },
  "language_info": {
   "codemirror_mode": {
    "name": "ipython",
    "version": 3
   },
   "file_extension": ".py",
   "mimetype": "text/x-python",
   "name": "python",
   "nbconvert_exporter": "python",
   "pygments_lexer": "ipython3",
   "version": "3.9.7"
  },
  "orig_nbformat": 4,
  "vscode": {
   "interpreter": {
    "hash": "88279d2366fe020547cde40dd65aa0e3aa662a6ec1f3ca12d88834876c85e1a6"
   }
  }
 },
 "nbformat": 4,
 "nbformat_minor": 2
}
